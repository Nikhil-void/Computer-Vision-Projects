{
 "cells": [
  {
   "cell_type": "code",
   "execution_count": 31,
   "id": "326accc3",
   "metadata": {},
   "outputs": [],
   "source": [
    "import os\n",
    "import cv2\n",
    "import imutils\n",
    "import math\n",
    "import numpy as np\n",
    "from tqdm import tqdm"
   ]
  },
  {
   "cell_type": "code",
   "execution_count": 32,
   "id": "98bb0cf0",
   "metadata": {},
   "outputs": [],
   "source": [
    "def disp_img(img):\n",
    "    cv2.imshow(\"Image\", img)\n",
    "    cv2.waitKey(0)\n",
    "\n",
    "def normalize_img(img):\n",
    "    img = (img-np.min(img))/(np.max(img)-np.min(img)) * 255\n",
    "    img = img.astype(\"uint8\")\n",
    "    return img\n",
    "\n",
    "def write_img(name, img):\n",
    "    cv2.imwrite(\"Output_Images//Sobel//Edge_Detected_%s\" % name, img)\n",
    "    \n",
    "def apply_gaussian_blur(img, sigma=1):\n",
    "    kernel_x = np.array([[1, 4, 7, 4 ,1],\n",
    "              [4, 16,26,16,4],\n",
    "              [7, 26,41,26,7],\n",
    "              [4, 16,26,16,4],\n",
    "              [1, 4, 7, 4 ,1]], dtype='float')\n",
    "    kernel_y = kernel_x.T\n",
    "    kernel = (1/(2*np.pi*(sigma**2))) * (np.exp(-(np.square(kernel_x) + np.square(kernel_y)) / (2*np.square(sigma))))\n",
    "    kernel = kernel / np.sum(kernel)\n",
    "    \n",
    "    blurred = np.zeros(img.shape)\n",
    "    for i in tqdm(range(2 , img.shape[0] - 2)):\n",
    "        for j in range(2, img.shape[1] - 2):\n",
    "            blurred[i, j] = np.sum(img[i-2:i+3, j-2:j+3]*kernel)\n",
    "    return blurred\n",
    "    \n",
    "def run_sobel_filter(img):\n",
    "    window_y = np.array([[-1, 0 ,1], [-2, 0, 2], [-1, 0 ,1]])\n",
    "    window_x = np.array([[-1, -2, -1], [0, 0, 0], [1, 2, 1]])\n",
    "    sobel_x = np.zeros(img.shape)\n",
    "    sobel_y = np.zeros(img.shape)\n",
    "    \n",
    "    img = np.pad(img, 1, mode='edge')\n",
    "    for i in tqdm(range(1 , img.shape[0] - 1)):\n",
    "        for j in range(1, img.shape[1] - 1):\n",
    "            img_blob = img[i-1:i+2, j-1:j+2]\n",
    "            sobel_x[i-1, j-1] = np.sum(img_blob*window_x)\n",
    "            sobel_y[i-1, j-1] = np.sum(img_blob*window_y)\n",
    "            \n",
    "            \n",
    "    return sobel_x, sobel_y\n",
    "\n",
    "def perform_nonmax_suppression(img):\n",
    "    for i in range(2, img.shape[0] - 2):\n",
    "        for j in range(2, img.shape[1] - 2):\n",
    "            blob = img[i-2:i+3, j-2:j+3]\n",
    "            "
   ]
  },
  {
   "cell_type": "code",
   "execution_count": 33,
   "id": "a5dfc140",
   "metadata": {},
   "outputs": [
    {
     "name": "stdout",
     "output_type": "stream",
     "text": [
      "#### Running Edge detection on Image : BedSheet.jpeg ####\n"
     ]
    },
    {
     "name": "stderr",
     "output_type": "stream",
     "text": [
      "100%|██████████| 2016/2016 [00:59<00:00, 34.17it/s]\n"
     ]
    },
    {
     "name": "stdout",
     "output_type": "stream",
     "text": [
      "Sobel generated\n"
     ]
    },
    {
     "name": "stderr",
     "output_type": "stream",
     "text": [
      "C:\\Users\\nikhi\\AppData\\Local\\Temp/ipykernel_22064/1632394700.py:14: RuntimeWarning: divide by zero encountered in floor_divide\n",
      "  radian_img = np.arctan2(sobel_y // sobel_x)\n",
      "C:\\Users\\nikhi\\AppData\\Local\\Temp/ipykernel_22064/1632394700.py:14: RuntimeWarning: invalid value encountered in floor_divide\n",
      "  radian_img = np.arctan2(sobel_y // sobel_x)\n"
     ]
    },
    {
     "ename": "ValueError",
     "evalue": "invalid number of arguments",
     "output_type": "error",
     "traceback": [
      "\u001b[1;31m---------------------------------------------------------------------------\u001b[0m",
      "\u001b[1;31mValueError\u001b[0m                                Traceback (most recent call last)",
      "\u001b[1;32m~\\AppData\\Local\\Temp/ipykernel_22064/1632394700.py\u001b[0m in \u001b[0;36m<module>\u001b[1;34m\u001b[0m\n\u001b[0;32m     12\u001b[0m     \u001b[0mfinal_sobel\u001b[0m \u001b[1;33m=\u001b[0m \u001b[0mfinal_sobel\u001b[0m\u001b[1;33m.\u001b[0m\u001b[0mastype\u001b[0m\u001b[1;33m(\u001b[0m\u001b[1;34m\"uint8\"\u001b[0m\u001b[1;33m)\u001b[0m\u001b[1;33m\u001b[0m\u001b[1;33m\u001b[0m\u001b[0m\n\u001b[0;32m     13\u001b[0m \u001b[1;33m\u001b[0m\u001b[0m\n\u001b[1;32m---> 14\u001b[1;33m     \u001b[0mradian_img\u001b[0m \u001b[1;33m=\u001b[0m \u001b[0mnp\u001b[0m\u001b[1;33m.\u001b[0m\u001b[0marctan2\u001b[0m\u001b[1;33m(\u001b[0m\u001b[0msobel_y\u001b[0m \u001b[1;33m//\u001b[0m \u001b[0msobel_x\u001b[0m\u001b[1;33m)\u001b[0m\u001b[1;33m\u001b[0m\u001b[1;33m\u001b[0m\u001b[0m\n\u001b[0m\u001b[0;32m     15\u001b[0m     \u001b[1;31m#radian_img = np.rad2deg(radian_img)\u001b[0m\u001b[1;33m\u001b[0m\u001b[1;33m\u001b[0m\u001b[0m\n\u001b[0;32m     16\u001b[0m     \u001b[0mradian_img\u001b[0m \u001b[1;33m=\u001b[0m \u001b[0mradian_img\u001b[0m\u001b[1;33m.\u001b[0m\u001b[0mastype\u001b[0m\u001b[1;33m(\u001b[0m\u001b[1;34m\"uint8\"\u001b[0m\u001b[1;33m)\u001b[0m\u001b[1;33m\u001b[0m\u001b[1;33m\u001b[0m\u001b[0m\n",
      "\u001b[1;31mValueError\u001b[0m: invalid number of arguments"
     ]
    }
   ],
   "source": [
    "for name in os.listdir(\"Input_Images\"):\n",
    "    final_path = \"Input_Images//\" + name\n",
    "    print(\"#### Running Edge detection on Image : %s ####\" % name)\n",
    "    img = cv2.imread(final_path)\n",
    "    grey_img = cv2.cvtColor(img, cv2.COLOR_BGR2GRAY)\n",
    "    #grey_img = apply_gaussian_blur(grey_img, 1)\n",
    "    grey_img = cv2.GaussianBlur(grey_img, (5, 5), 0)\n",
    "        \n",
    "    sobel_x, sobel_y = run_sobel_filter(grey_img)\n",
    "    print(\"Sobel generated\")\n",
    "    final_sobel = np.sqrt(np.square(sobel_x) + np.square(sobel_y))\n",
    "    final_sobel = final_sobel.astype(\"uint8\")\n",
    "    \n",
    "    radian_img = np.arctan2(sobel_y // sobel_x)\n",
    "    #radian_img = np.rad2deg(radian_img)\n",
    "    radian_img = radian_img.astype(\"uint8\")\n",
    "    print(radian_img.shape)\n",
    "    dark = np.zeros(radian_img.shape).astype(\"uint8\")\n",
    "    color_img = cv2.merge([radian_img, dark, 255 - radian_img])\n",
    "    \n",
    "    #color_img = cv2.cvtColor(radian_img, cv2.COLOR_GRAY2RGB)\n",
    "    \n",
    "    write_img(name, final_sobel)\n",
    "    write_img(\"_With_Direction_\" + name, color_img)\n",
    "    \n",
    "    \n",
    "    print(\"Image created\")\n"
   ]
  },
  {
   "cell_type": "code",
   "execution_count": null,
   "id": "df8c1d6d",
   "metadata": {},
   "outputs": [],
   "source": []
  }
 ],
 "metadata": {
  "kernelspec": {
   "display_name": "Python 3 (ipykernel)",
   "language": "python",
   "name": "python3"
  },
  "language_info": {
   "codemirror_mode": {
    "name": "ipython",
    "version": 3
   },
   "file_extension": ".py",
   "mimetype": "text/x-python",
   "name": "python",
   "nbconvert_exporter": "python",
   "pygments_lexer": "ipython3",
   "version": "3.9.7"
  }
 },
 "nbformat": 4,
 "nbformat_minor": 5
}
