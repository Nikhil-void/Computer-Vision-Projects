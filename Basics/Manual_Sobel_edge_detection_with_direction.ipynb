{
 "cells": [
  {
   "cell_type": "code",
   "execution_count": 7,
   "id": "35d9367d",
   "metadata": {},
   "outputs": [],
   "source": [
    "import os\n",
    "import cv2\n",
    "import imutils\n",
    "import math\n",
    "import numpy as np\n",
    "from tqdm import tqdm"
   ]
  },
  {
   "cell_type": "code",
   "execution_count": 8,
   "id": "ed5a4eea",
   "metadata": {},
   "outputs": [],
   "source": [
    "def disp_img(img):\n",
    "    cv2.imshow(\"Image\", img)\n",
    "    cv2.waitKey(0)\n",
    "\n",
    "def normalize_img(img):\n",
    "    img = (img-np.min(img))/(np.max(img)-np.min(img)) * 255\n",
    "    img = img.astype(\"uint8\")\n",
    "    return img\n",
    "\n",
    "def write_img(name, img):\n",
    "    cv2.imwrite(\"Output_Images//Sobel//Edge_Detected_%s\" % name, img)\n",
    "    \n",
    "def run_sobel_filter(img):\n",
    "    window_y = np.array([[-1, 0 ,1], [-2, 0, 2], [-1, 0 ,1]])\n",
    "    window_x = np.array([[-1, -2, -1], [0, 0, 0], [1, 2, 1]])\n",
    "    sobel_x = np.zeros(img.shape)\n",
    "    sobel_y = np.zeros(img.shape)\n",
    "    \n",
    "    img = np.pad(img, 1, mode='edge')\n",
    "    for i in tqdm(range(1 , img.shape[0] - 1)):\n",
    "        for j in range(1, img.shape[1] - 1):\n",
    "            img_blob = img[i-1:i+2, j-1:j+2]\n",
    "            sobel_x[i-1, j-1] = np.sum(img_blob*window_x)\n",
    "            sobel_y[i-1, j-1] = np.sum(img_blob*window_y)\n",
    "            \n",
    "            \n",
    "    return sobel_x, sobel_y"
   ]
  },
  {
   "cell_type": "code",
   "execution_count": 12,
   "id": "c49ec91d",
   "metadata": {},
   "outputs": [
    {
     "name": "stdout",
     "output_type": "stream",
     "text": [
      "#### Running Edge detection on Image : BedSheet.jpeg ####\n"
     ]
    },
    {
     "name": "stderr",
     "output_type": "stream",
     "text": [
      "100%|██████████| 2016/2016 [01:08<00:00, 29.38it/s]\n"
     ]
    },
    {
     "name": "stdout",
     "output_type": "stream",
     "text": [
      "Sobel generated\n"
     ]
    },
    {
     "name": "stderr",
     "output_type": "stream",
     "text": [
      "C:\\Users\\nikhi\\AppData\\Local\\Temp/ipykernel_28124/2348549063.py:13: RuntimeWarning: divide by zero encountered in floor_divide\n",
      "  radian_img = np.arctan(sobel_y // sobel_x)\n",
      "C:\\Users\\nikhi\\AppData\\Local\\Temp/ipykernel_28124/2348549063.py:13: RuntimeWarning: invalid value encountered in floor_divide\n",
      "  radian_img = np.arctan(sobel_y // sobel_x)\n"
     ]
    },
    {
     "name": "stdout",
     "output_type": "stream",
     "text": [
      "(2016, 1134)\n",
      "Image created\n",
      "#### Running Edge detection on Image : book.jpeg ####\n"
     ]
    },
    {
     "name": "stderr",
     "output_type": "stream",
     "text": [
      "100%|██████████| 2016/2016 [01:08<00:00, 29.23it/s]\n"
     ]
    },
    {
     "name": "stdout",
     "output_type": "stream",
     "text": [
      "Sobel generated\n",
      "(2016, 1134)\n",
      "Image created\n",
      "#### Running Edge detection on Image : datasheet.jpeg ####\n"
     ]
    },
    {
     "name": "stderr",
     "output_type": "stream",
     "text": [
      "100%|██████████| 1920/1920 [00:58<00:00, 32.90it/s]\n"
     ]
    },
    {
     "name": "stdout",
     "output_type": "stream",
     "text": [
      "Sobel generated\n",
      "(1920, 1080)\n",
      "Image created\n",
      "#### Running Edge detection on Image : lotus-flower-8341397.jpg ####\n"
     ]
    },
    {
     "name": "stderr",
     "output_type": "stream",
     "text": [
      "100%|██████████| 1147/1147 [00:45<00:00, 24.97it/s]\n"
     ]
    },
    {
     "name": "stdout",
     "output_type": "stream",
     "text": [
      "Sobel generated\n",
      "(1147, 1300)\n",
      "Image created\n"
     ]
    }
   ],
   "source": [
    "for name in os.listdir(\"Input_Images\"):\n",
    "    final_path = \"Input_Images//\" + name\n",
    "    print(\"#### Running Edge detection on Image : %s ####\" % name)\n",
    "    img = cv2.imread(final_path)\n",
    "    grey_img = cv2.cvtColor(img, cv2.COLOR_BGR2GRAY)\n",
    "    grey_img = cv2.GaussianBlur(grey_img, (11, 11), 0)\n",
    "        \n",
    "    sobel_x, sobel_y = run_sobel_filter(grey_img)\n",
    "    print(\"Sobel generated\")\n",
    "    final_sobel = np.sqrt(np.square(sobel_x) + np.square(sobel_y))\n",
    "    final_sobel = final_sobel.astype(\"uint8\")\n",
    "    \n",
    "    radian_img = np.arctan(sobel_y // sobel_x)\n",
    "    radian_img = np.rad2deg(radian_img)\n",
    "    radian_img = radian_img.astype(\"uint8\")\n",
    "    print(radian_img.shape)\n",
    "    dark = np.zeros(radian_img.shape).astype(\"uint8\")\n",
    "    color_img = cv2.merge([radian_img, dark, 255 - radian_img])\n",
    "    \n",
    "    #color_img = cv2.cvtColor(radian_img, cv2.COLOR_GRAY2RGB)\n",
    "    \n",
    "    write_img(name, final_sobel)\n",
    "    write_img(\"_With_Direction_\" + name, color_img)\n",
    "    \n",
    "    \n",
    "    print(\"Image created\")\n",
    "    "
   ]
  },
  {
   "cell_type": "markdown",
   "id": "33b051c9",
   "metadata": {},
   "source": [
    "Source Image | Edge Detected Image\n",
    "- | - \n",
    "![alt](Input_Images\\lotus-flower.jpg) | ![alt](Output_Images\\Sobel\\Edge_Detected_lotus-flower.jpg)"
   ]
  },
  {
   "cell_type": "code",
   "execution_count": 18,
   "id": "2d4ad697",
   "metadata": {},
   "outputs": [
    {
     "data": {
      "text/html": [
       "<table><tr><td><img src='Input_Images\\lotus-flower.jpg'></td><td><img src='Output_Images\\Sobel\\Edge_Detected_lotus-flower.jpg'></td></tr></table>"
      ],
      "text/plain": [
       "<IPython.core.display.HTML object>"
      ]
     },
     "metadata": {},
     "output_type": "display_data"
    }
   ],
   "source": [
    "from IPython.display import HTML, display\n",
    "display(HTML(\"<table><tr><td><img src='Input_Images\\lotus-flower.jpg'></td><td><img src='Output_Images\\Sobel\\Edge_Detected_lotus-flower.jpg'></td></tr></table>\"))"
   ]
  },
  {
   "cell_type": "code",
   "execution_count": null,
   "id": "aa836852",
   "metadata": {},
   "outputs": [],
   "source": []
  }
 ],
 "metadata": {
  "kernelspec": {
   "display_name": "Python 3 (ipykernel)",
   "language": "python",
   "name": "python3"
  },
  "language_info": {
   "codemirror_mode": {
    "name": "ipython",
    "version": 3
   },
   "file_extension": ".py",
   "mimetype": "text/x-python",
   "name": "python",
   "nbconvert_exporter": "python",
   "pygments_lexer": "ipython3",
   "version": "3.9.7"
  }
 },
 "nbformat": 4,
 "nbformat_minor": 5
}
