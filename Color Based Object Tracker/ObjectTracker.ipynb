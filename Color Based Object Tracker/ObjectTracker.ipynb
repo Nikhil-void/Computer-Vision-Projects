{
 "cells": [
  {
   "cell_type": "code",
   "execution_count": 1,
   "id": "6d340131",
   "metadata": {},
   "outputs": [],
   "source": [
    "import cv2\n",
    "\n",
    "import numpy as np"
   ]
  },
  {
   "cell_type": "code",
   "execution_count": 3,
   "id": "1286001a",
   "metadata": {},
   "outputs": [],
   "source": [
    "cv2.namedWindow(\"preview\")\n",
    "vc = cv2.VideoCapture(0)\n",
    "\n",
    "\n",
    "Ball_MIN = np.array([35, 50, 6], np.uint8)\n",
    "Ball_MAX = np.array([50, 255, 255],np.uint8)\n",
    "\n",
    "if vc.isOpened(): # try to get the first frame\n",
    "    rval, frame = vc.read()\n",
    "else:\n",
    "    rval = False\n",
    "\n",
    "track = []\n",
    "start = False\n",
    "while rval:\n",
    "    \n",
    "    rval, frame = vc.read()\n",
    "    frame = cv2.resize(frame, (0,0), fx = 0.75, fy = 0.75)\n",
    "    key = cv2.waitKey(10)\n",
    "    if key == 27: # exit on ESC\n",
    "        break\n",
    "    frame = cv2.GaussianBlur(frame, (11,11), 2)\n",
    "    hsv = cv2.cvtColor(frame, cv2.COLOR_BGR2HSV)\n",
    "    threshold = cv2.inRange(hsv,Ball_MIN , Ball_MAX)\n",
    "    threshold = cv2.erode(threshold, None, iterations=2)\n",
    "    threshold = cv2.dilate(threshold, None, iterations=2)\n",
    "    \n",
    "    cnt, heir = cv2.findContours(threshold, cv2.RETR_EXTERNAL, cv2.CHAIN_APPROX_SIMPLE)\n",
    "    \n",
    "    ball = []\n",
    "    \n",
    "    if len(cnt) > 0 :\n",
    "        #ball = max(cnt, key=cv2.contourArea)\n",
    "        for c in cnt:\n",
    "            approx = cv2.approxPolyDP(c,0.01*cv2.arcLength(c,True),True)\n",
    "            area = cv2.contourArea(c)\n",
    "            if ((len(approx) > 8) & (area > 250)):\n",
    "                ball = c\n",
    "                val = cv2.minEnclosingCircle(c)\n",
    "                track.append(list(val[0]))\n",
    "                #print(track)\n",
    "                break\n",
    "        if len(ball) > 0:\n",
    "            pass\n",
    "            #cv2.drawContours(frame, ball, -1, (0, 255, 0), 2)\n",
    "    else:\n",
    "        if len(track) > 0:\n",
    "            track.pop(0)\n",
    "    \n",
    "    while len(track) > 50:\n",
    "        track.pop(0) \n",
    "        start = True\n",
    "    #print(type(track))\n",
    "    \n",
    "    if len(track) > 0 and start:\n",
    "        track.pop(0)\n",
    "    else:\n",
    "        start = False\n",
    "    \n",
    "    \n",
    "    \n",
    "    for i in range(2, len(track), 3):\n",
    "        start1 = np.array(list(track[i-2]), dtype=int)\n",
    "        end1 = np.array(list(track[i]), dtype=int)\n",
    "        \n",
    "        cv2.line(frame, start1, end1, (255,0,0), 2)\n",
    "    \n",
    "    cv2.imshow(\"preview\", threshold)\n",
    "    cv2.imshow(\"preview1\", frame)\n",
    "\n",
    "vc.release()\n",
    "cv2.destroyAllWindows()"
   ]
  },
  {
   "cell_type": "code",
   "execution_count": null,
   "id": "7c7c1781",
   "metadata": {},
   "outputs": [],
   "source": [
    "# img = cv2.imread(\"test.jpg\")\n",
    "img = cv2.cvtColor(frame, cv2.COLOR_BGR2HSV)"
   ]
  },
  {
   "cell_type": "code",
   "execution_count": 11,
   "id": "2ea53b0e",
   "metadata": {},
   "outputs": [
    {
     "data": {
      "text/plain": [
       "array([102,  83,  77], dtype=uint8)"
      ]
     },
     "execution_count": 11,
     "metadata": {},
     "output_type": "execute_result"
    }
   ],
   "source": [
    "img[300,250]"
   ]
  },
  {
   "cell_type": "code",
   "execution_count": null,
   "id": "e89889e1",
   "metadata": {},
   "outputs": [],
   "source": []
  }
 ],
 "metadata": {
  "kernelspec": {
   "display_name": "Python 3 (ipykernel)",
   "language": "python",
   "name": "python3"
  },
  "language_info": {
   "codemirror_mode": {
    "name": "ipython",
    "version": 3
   },
   "file_extension": ".py",
   "mimetype": "text/x-python",
   "name": "python",
   "nbconvert_exporter": "python",
   "pygments_lexer": "ipython3",
   "version": "3.9.7"
  }
 },
 "nbformat": 4,
 "nbformat_minor": 5
}
